{
 "cells": [
  {
   "cell_type": "code",
   "execution_count": 1,
   "id": "89c3be3a",
   "metadata": {},
   "outputs": [],
   "source": [
    "import numpy as np"
   ]
  },
  {
   "cell_type": "markdown",
   "id": "120e8cea",
   "metadata": {},
   "source": [
    "## Array routines are nothing but just ways of creating arrays."
   ]
  },
  {
   "cell_type": "markdown",
   "id": "bd829b20",
   "metadata": {},
   "source": [
    "# 1. np.empty(shape,dtype,order)  \n",
    "   ## --It creates an uninitialized array of specified shape and dtype\n",
    "#### shape--> refers sahpe of the array\n",
    "#### dtype--> refers type of the array and *order* refers order style"
   ]
  },
  {
   "cell_type": "code",
   "execution_count": 2,
   "id": "6520993c",
   "metadata": {},
   "outputs": [],
   "source": [
    "arr = np.empty([3,4],dtype=int)"
   ]
  },
  {
   "cell_type": "code",
   "execution_count": 3,
   "id": "a2bbc6a3",
   "metadata": {},
   "outputs": [
    {
     "data": {
      "text/plain": [
       "array([[4611686018427387904, 4611686018427387904,         34359738374,\n",
       "                          0],\n",
       "       [                  0,                   0,                   0,\n",
       "                          0],\n",
       "       [                  0,                   0,                   0,\n",
       "           1688849860263936]])"
      ]
     },
     "execution_count": 3,
     "metadata": {},
     "output_type": "execute_result"
    }
   ],
   "source": [
    "arr"
   ]
  },
  {
   "cell_type": "markdown",
   "id": "c7ea6f60",
   "metadata": {},
   "source": [
    "#### Values of the array are random values as they were not initialised"
   ]
  },
  {
   "cell_type": "markdown",
   "id": "6903410c",
   "metadata": {},
   "source": [
    "# 2. np.zeros(shape, dtype, order)\n",
    "## -- It creates a new array of specified size and filled with zeroes"
   ]
  },
  {
   "cell_type": "code",
   "execution_count": 4,
   "id": "25b6b743",
   "metadata": {},
   "outputs": [],
   "source": [
    "arr2 = np.zeros([5,3],dtype=float, order = 'C')"
   ]
  },
  {
   "cell_type": "code",
   "execution_count": 5,
   "id": "a9a1ee82",
   "metadata": {},
   "outputs": [
    {
     "data": {
      "text/plain": [
       "array([[0., 0., 0.],\n",
       "       [0., 0., 0.],\n",
       "       [0., 0., 0.],\n",
       "       [0., 0., 0.],\n",
       "       [0., 0., 0.]])"
      ]
     },
     "execution_count": 5,
     "metadata": {},
     "output_type": "execute_result"
    }
   ],
   "source": [
    "arr2"
   ]
  },
  {
   "cell_type": "markdown",
   "id": "f8735522",
   "metadata": {},
   "source": [
    "# 3. np.ones(shape, dtype, order)\n",
    "## -- it returns new array of specified size and filled with ones"
   ]
  },
  {
   "cell_type": "code",
   "execution_count": 6,
   "id": "240c77c4",
   "metadata": {},
   "outputs": [],
   "source": [
    "arr3 = np.ones([3,3], dtype=int)"
   ]
  },
  {
   "cell_type": "code",
   "execution_count": 7,
   "id": "cfc128f5",
   "metadata": {},
   "outputs": [
    {
     "data": {
      "text/plain": [
       "array([[1, 1, 1],\n",
       "       [1, 1, 1],\n",
       "       [1, 1, 1]])"
      ]
     },
     "execution_count": 7,
     "metadata": {},
     "output_type": "execute_result"
    }
   ],
   "source": [
    "arr3"
   ]
  },
  {
   "cell_type": "markdown",
   "id": "93907848",
   "metadata": {},
   "source": [
    "# Array from existing data\n",
    "\n",
    "## np.asarray(a, dtype, order) \n",
    "\n",
    "##  a--> It can be list, list of tuple, tuple of list, etc\n",
    " This is same as **np.array()**. The only difference is parameters are less in this. It can be used to convert python sequence into nd array."
   ]
  },
  {
   "cell_type": "code",
   "execution_count": 8,
   "id": "01a3d754",
   "metadata": {},
   "outputs": [],
   "source": [
    "a = ['a','s',2,4]\n",
    "arr4 = np.asarray(a)"
   ]
  },
  {
   "cell_type": "code",
   "execution_count": 9,
   "id": "0b4ef8cf",
   "metadata": {},
   "outputs": [
    {
     "data": {
      "text/plain": [
       "array(['a', 's', '2', '4'], dtype='<U21')"
      ]
     },
     "execution_count": 9,
     "metadata": {},
     "output_type": "execute_result"
    }
   ],
   "source": [
    "arr4"
   ]
  },
  {
   "cell_type": "markdown",
   "id": "857818f6",
   "metadata": {},
   "source": [
    "# np.arange(start, stop, step, dtype)\n",
    "## It gives an array of specified range with even space"
   ]
  },
  {
   "cell_type": "code",
   "execution_count": 10,
   "id": "faaca39f",
   "metadata": {},
   "outputs": [
    {
     "data": {
      "text/plain": [
       "array([0, 1, 2, 3, 4, 5, 6, 7, 8, 9])"
      ]
     },
     "execution_count": 10,
     "metadata": {},
     "output_type": "execute_result"
    }
   ],
   "source": [
    "arr5 = np.arange(10)\n",
    "arr5"
   ]
  },
  {
   "cell_type": "code",
   "execution_count": 13,
   "id": "98e9ffe2",
   "metadata": {},
   "outputs": [
    {
     "data": {
      "text/plain": [
       "array([20. , 20.1, 20.2, 20.3, 20.4, 20.5, 20.6, 20.7, 20.8, 20.9, 21. ,\n",
       "       21.1, 21.2, 21.3, 21.4, 21.5, 21.6, 21.7, 21.8, 21.9, 22. , 22.1,\n",
       "       22.2, 22.3, 22.4, 22.5, 22.6, 22.7, 22.8, 22.9, 23. , 23.1, 23.2,\n",
       "       23.3, 23.4, 23.5, 23.6, 23.7, 23.8, 23.9, 24. , 24.1, 24.2, 24.3,\n",
       "       24.4, 24.5, 24.6, 24.7, 24.8, 24.9])"
      ]
     },
     "execution_count": 13,
     "metadata": {},
     "output_type": "execute_result"
    }
   ],
   "source": [
    "arr6 = np.arange(20,25,0.1)\n",
    "arr6"
   ]
  },
  {
   "cell_type": "markdown",
   "id": "5776562f",
   "metadata": {},
   "source": [
    "# np.linspace(start, stop, num, endpoint, retstep, dtype)\n",
    "## retstep returns steps between consecutive numbers"
   ]
  },
  {
   "cell_type": "code",
   "execution_count": 20,
   "id": "f23a23ed",
   "metadata": {},
   "outputs": [],
   "source": [
    "arr7 = np.linspace(10,20,num=10,retstep=True)"
   ]
  },
  {
   "cell_type": "code",
   "execution_count": 21,
   "id": "498bd669",
   "metadata": {},
   "outputs": [
    {
     "data": {
      "text/plain": [
       "(array([10.        , 11.11111111, 12.22222222, 13.33333333, 14.44444444,\n",
       "        15.55555556, 16.66666667, 17.77777778, 18.88888889, 20.        ]),\n",
       " 1.1111111111111112)"
      ]
     },
     "execution_count": 21,
     "metadata": {},
     "output_type": "execute_result"
    }
   ],
   "source": [
    "arr7"
   ]
  },
  {
   "cell_type": "markdown",
   "id": "8c220e18",
   "metadata": {},
   "source": [
    "# np.logspace(start, stop, num, endpoint, base, dtype)\n",
    "\n",
    "## Start and stop endpoints of the scale are indices of the base, usually 10"
   ]
  },
  {
   "cell_type": "code",
   "execution_count": 28,
   "id": "917153ba",
   "metadata": {},
   "outputs": [],
   "source": [
    "arr8 = np.logspace(start=2,stop=6, num=20,base=2)"
   ]
  },
  {
   "cell_type": "code",
   "execution_count": 29,
   "id": "1e82935a",
   "metadata": {},
   "outputs": [
    {
     "data": {
      "text/plain": [
       "array([ 4.        ,  4.62844095,  5.3556164 ,  6.19703857,  7.17065677,\n",
       "        8.29724036,  9.60082176, 11.10920914, 12.85457963, 14.87416568,\n",
       "       17.21104938, 19.91508143, 23.0439446 , 26.6643842 , 30.85363193,\n",
       "       35.70105337, 41.31005433, 47.80028677, 55.31020117, 64.        ])"
      ]
     },
     "execution_count": 29,
     "metadata": {},
     "output_type": "execute_result"
    }
   ],
   "source": [
    "arr8"
   ]
  },
  {
   "cell_type": "code",
   "execution_count": null,
   "id": "4e5b9987",
   "metadata": {},
   "outputs": [],
   "source": []
  }
 ],
 "metadata": {
  "kernelspec": {
   "display_name": "Python 3",
   "language": "python",
   "name": "python3"
  },
  "language_info": {
   "codemirror_mode": {
    "name": "ipython",
    "version": 3
   },
   "file_extension": ".py",
   "mimetype": "text/x-python",
   "name": "python",
   "nbconvert_exporter": "python",
   "pygments_lexer": "ipython3",
   "version": "3.8.8"
  }
 },
 "nbformat": 4,
 "nbformat_minor": 5
}
