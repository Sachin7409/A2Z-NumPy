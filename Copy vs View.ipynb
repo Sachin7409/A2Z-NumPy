{
 "cells": [
  {
   "cell_type": "code",
   "execution_count": 1,
   "id": "e5ed827c",
   "metadata": {},
   "outputs": [],
   "source": [
    "import numpy as np"
   ]
  },
  {
   "cell_type": "markdown",
   "id": "7891cf82",
   "metadata": {},
   "source": [
    "\n",
    "\n",
    "|              Copy.                            |                  View                                    |\n",
    "|-----------------------------------------------| ---------------------------------------------------------|\n",
    "|1. The copy is a new array                     |1. The view is just a view of the original array.         |\n",
    "|2.The copy owns the data and any changes made to the copy will not affect original array and any changes made to the original array will not affect the copy.| 2. The view does not own the data and any changes made to the view will affect the original array, and any changes made to the original array will affect the view."
   ]
  },
  {
   "cell_type": "markdown",
   "id": "913682b0",
   "metadata": {},
   "source": [
    "## Make a copy, change the original array, and display both arrays:\n",
    "\n",
    "### The copy SHOULD NOT be affected by the changes made to the original array."
   ]
  },
  {
   "cell_type": "code",
   "execution_count": 2,
   "id": "769d9088",
   "metadata": {},
   "outputs": [],
   "source": [
    "arr1 = np.array([1,2,3,4,5,6,7,8])\n",
    "# making a new copy of original array\n",
    "x = arr1.copy()\n",
    "arr1[1]=20"
   ]
  },
  {
   "cell_type": "code",
   "execution_count": 3,
   "id": "9dedeadc",
   "metadata": {},
   "outputs": [
    {
     "data": {
      "text/plain": [
       "array([ 1, 20,  3,  4,  5,  6,  7,  8])"
      ]
     },
     "execution_count": 3,
     "metadata": {},
     "output_type": "execute_result"
    }
   ],
   "source": [
    "# array has been changed and this is our new copy\n",
    "arr1"
   ]
  },
  {
   "cell_type": "code",
   "execution_count": 4,
   "id": "f9ca9d52",
   "metadata": {},
   "outputs": [
    {
     "data": {
      "text/plain": [
       "array([1, 2, 3, 4, 5, 6, 7, 8])"
      ]
     },
     "execution_count": 4,
     "metadata": {},
     "output_type": "execute_result"
    }
   ],
   "source": [
    "# the original array without any changes because we assigned the array to x before making copy\n",
    "x"
   ]
  },
  {
   "cell_type": "markdown",
   "id": "97910ee5",
   "metadata": {},
   "source": [
    "## Make a view, change the original array, and display both arrays:\n",
    "\n",
    "### The view SHOULD be affected by the changes made to the original array.\n",
    "\n"
   ]
  },
  {
   "cell_type": "code",
   "execution_count": 5,
   "id": "540b042b",
   "metadata": {},
   "outputs": [],
   "source": [
    "arr2 = np.array([1,2,3,4,5,6,7,8,9])\n",
    "# making a view of original array\n",
    "y = arr2.view()\n",
    "arr2[3]=30 "
   ]
  },
  {
   "cell_type": "code",
   "execution_count": 6,
   "id": "a2d223df",
   "metadata": {},
   "outputs": [
    {
     "data": {
      "text/plain": [
       "array([ 1,  2,  3, 30,  5,  6,  7,  8,  9])"
      ]
     },
     "execution_count": 6,
     "metadata": {},
     "output_type": "execute_result"
    }
   ],
   "source": [
    "# original array has been changed and this is our view \n",
    "arr2"
   ]
  },
  {
   "cell_type": "code",
   "execution_count": 7,
   "id": "e0ed31c3",
   "metadata": {},
   "outputs": [
    {
     "data": {
      "text/plain": [
       "array([ 1,  2,  3, 30,  5,  6,  7,  8,  9])"
      ]
     },
     "execution_count": 7,
     "metadata": {},
     "output_type": "execute_result"
    }
   ],
   "source": [
    "# this is original array which also has been changed or affected.\n",
    "y"
   ]
  },
  {
   "cell_type": "markdown",
   "id": "a96b9487",
   "metadata": {},
   "source": [
    "## Make a view, change the view, and display both arrays:\n",
    "\n",
    "### The original array SHOULD be affected by the changes made to the view."
   ]
  },
  {
   "cell_type": "code",
   "execution_count": 8,
   "id": "9754542d",
   "metadata": {},
   "outputs": [],
   "source": [
    "arr3 = np.array([1, 2, 3, 4, 5])\n",
    "# making a view\n",
    "z = arr3.view()\n",
    "# making changes in view\n",
    "z[0] = 50"
   ]
  },
  {
   "cell_type": "code",
   "execution_count": 9,
   "id": "8c29526e",
   "metadata": {},
   "outputs": [
    {
     "data": {
      "text/plain": [
       "array([50,  2,  3,  4,  5])"
      ]
     },
     "execution_count": 9,
     "metadata": {},
     "output_type": "execute_result"
    }
   ],
   "source": [
    "arr3"
   ]
  },
  {
   "cell_type": "code",
   "execution_count": 10,
   "id": "eca0ff3f",
   "metadata": {},
   "outputs": [
    {
     "data": {
      "text/plain": [
       "array([50,  2,  3,  4,  5])"
      ]
     },
     "execution_count": 10,
     "metadata": {},
     "output_type": "execute_result"
    }
   ],
   "source": [
    "z"
   ]
  },
  {
   "cell_type": "markdown",
   "id": "0b06ba5c",
   "metadata": {},
   "source": [
    "## Check if Array Owns it's Data\n",
    "\n",
    "Every NumPy array has the attribute base that returns ***None*** if the array owns the data.\n",
    "\n",
    "because **copy** owns the data but **view** does not."
   ]
  },
  {
   "cell_type": "code",
   "execution_count": 11,
   "id": "e8231a22",
   "metadata": {},
   "outputs": [],
   "source": [
    "arr4 = np.array([1, 2, 3, 4, 5])\n",
    "\n",
    "p = arr4.copy()\n",
    "q = arr4.view()"
   ]
  },
  {
   "cell_type": "code",
   "execution_count": 12,
   "id": "3124eaff",
   "metadata": {},
   "outputs": [
    {
     "name": "stdout",
     "output_type": "stream",
     "text": [
      "None\n"
     ]
    }
   ],
   "source": [
    "print(p.base)"
   ]
  },
  {
   "cell_type": "code",
   "execution_count": 13,
   "id": "b624050d",
   "metadata": {},
   "outputs": [
    {
     "data": {
      "text/plain": [
       "array([1, 2, 3, 4, 5])"
      ]
     },
     "execution_count": 13,
     "metadata": {},
     "output_type": "execute_result"
    }
   ],
   "source": [
    "q.base"
   ]
  },
  {
   "cell_type": "code",
   "execution_count": null,
   "id": "257c935b",
   "metadata": {},
   "outputs": [],
   "source": []
  }
 ],
 "metadata": {
  "kernelspec": {
   "display_name": "Python 3",
   "language": "python",
   "name": "python3"
  },
  "language_info": {
   "codemirror_mode": {
    "name": "ipython",
    "version": 3
   },
   "file_extension": ".py",
   "mimetype": "text/x-python",
   "name": "python",
   "nbconvert_exporter": "python",
   "pygments_lexer": "ipython3",
   "version": "3.8.8"
  }
 },
 "nbformat": 4,
 "nbformat_minor": 5
}
