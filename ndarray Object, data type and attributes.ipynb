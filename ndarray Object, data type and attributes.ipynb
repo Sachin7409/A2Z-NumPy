{
 "cells": [
  {
   "attachments": {
    "image.png": {
     "image/png": "[encoded data removed]"
    }
   },
   "cell_type": "markdown",
   "id": "083ac2ad",
   "metadata": {},
   "source": [
    "![image.png](attachment:image.png)"
   ]
  },
  {
   "cell_type": "markdown",
   "id": "8583af58",
   "metadata": {},
   "source": [
    "## To use NUMPY we will import first as np. After importing we use np for numpy to access functions from the package."
   ]
  },
  {
   "cell_type": "code",
   "execution_count": 74,
   "id": "1bddf386",
   "metadata": {},
   "outputs": [],
   "source": [
    "import numpy as np"
   ]
  },
  {
   "attachments": {},
   "cell_type": "markdown",
   "id": "f78b9c0e",
   "metadata": {},
   "source": [
    "# Rank-1 array is one dimensioanal array or vector.\n",
    "## array is a method in numpy package which returns ndarray object"
   ]
  },
  {
   "cell_type": "code",
   "execution_count": 75,
   "id": "1378dad5",
   "metadata": {},
   "outputs": [
    {
     "data": {
      "text/plain": [
       "<function numpy.array>"
      ]
     },
     "execution_count": 75,
     "metadata": {},
     "output_type": "execute_result"
    },
    {
     "data": {
      "text/plain": [
       "<function numpy.array>"
      ]
     },
     "execution_count": 75,
     "metadata": {},
     "output_type": "execute_result"
    },
    {
     "data": {
      "text/plain": [
       "<function numpy.array>"
      ]
     },
     "execution_count": 75,
     "metadata": {},
     "output_type": "execute_result"
    },
    {
     "data": {
      "text/plain": [
       "<function numpy.array>"
      ]
     },
     "execution_count": 75,
     "metadata": {},
     "output_type": "execute_result"
    }
   ],
   "source": [
    "np.array"
   ]
  },
  {
   "cell_type": "markdown",
   "id": "abf7c576",
   "metadata": {},
   "source": [
    "# The parameter of    np.array(object, dtype=None, copy = True, order = None,\n",
    "# subok = False, ndmin = 0)\n",
    "\n",
    "## We will look one by one each parameter."
   ]
  },
  {
   "cell_type": "code",
   "execution_count": 76,
   "id": "1e408178",
   "metadata": {},
   "outputs": [],
   "source": [
    "# Creating rank 1 array\n",
    "myarr = np.array([1,2,3,3,4,5,6,7,8,8,99,87,4,7,78])"
   ]
  },
  {
   "cell_type": "code",
   "execution_count": 77,
   "id": "17b086a8",
   "metadata": {},
   "outputs": [
    {
     "data": {
      "text/plain": [
       "5"
      ]
     },
     "execution_count": 77,
     "metadata": {},
     "output_type": "execute_result"
    },
    {
     "data": {
      "text/plain": [
       "5"
      ]
     },
     "execution_count": 77,
     "metadata": {},
     "output_type": "execute_result"
    },
    {
     "data": {
      "text/plain": [
       "5"
      ]
     },
     "execution_count": 77,
     "metadata": {},
     "output_type": "execute_result"
    },
    {
     "data": {
      "text/plain": [
       "5"
      ]
     },
     "execution_count": 77,
     "metadata": {},
     "output_type": "execute_result"
    }
   ],
   "source": [
    "myarr[5]\n",
    "\n",
    "# This is a Rank 1 array so we need only one index to access each element"
   ]
  },
  {
   "cell_type": "markdown",
   "id": "8c26506d",
   "metadata": {},
   "source": [
    "# More than one dimension"
   ]
  },
  {
   "cell_type": "code",
   "execution_count": 78,
   "id": "4bcb7a54",
   "metadata": {},
   "outputs": [],
   "source": [
    "# Creating a rank 2 array\n",
    "\n",
    "myarr2=np.array([[3,4,77],[2,3,1]])"
   ]
  },
  {
   "cell_type": "code",
   "execution_count": 79,
   "id": "16bcf74c",
   "metadata": {},
   "outputs": [
    {
     "data": {
      "text/plain": [
       "1"
      ]
     },
     "execution_count": 79,
     "metadata": {},
     "output_type": "execute_result"
    },
    {
     "data": {
      "text/plain": [
       "1"
      ]
     },
     "execution_count": 79,
     "metadata": {},
     "output_type": "execute_result"
    },
    {
     "data": {
      "text/plain": [
       "1"
      ]
     },
     "execution_count": 79,
     "metadata": {},
     "output_type": "execute_result"
    },
    {
     "data": {
      "text/plain": [
       "1"
      ]
     },
     "execution_count": 79,
     "metadata": {},
     "output_type": "execute_result"
    }
   ],
   "source": [
    "#Access the element of array\n",
    "myarr2[1,2]\n",
    "\n",
    "# This is a rank 2 array so we need two index to access each element"
   ]
  },
  {
   "cell_type": "markdown",
   "id": "af96aedd",
   "metadata": {},
   "source": [
    "# Minimum Dimension.\n",
    "## ndmin"
   ]
  },
  {
   "cell_type": "code",
   "execution_count": 80,
   "id": "1c60a75c",
   "metadata": {},
   "outputs": [],
   "source": [
    "# We can create a two diension arrayby providing dimension\n",
    "myarr3 = np.array([1,2,3,4,5],ndmin=3)"
   ]
  },
  {
   "cell_type": "code",
   "execution_count": 81,
   "id": "a2fa5fd1",
   "metadata": {},
   "outputs": [
    {
     "data": {
      "text/plain": [
       "array([[[1, 2, 3, 4, 5]]])"
      ]
     },
     "execution_count": 81,
     "metadata": {},
     "output_type": "execute_result"
    },
    {
     "data": {
      "text/plain": [
       "array([[[1, 2, 3, 4, 5]]])"
      ]
     },
     "execution_count": 81,
     "metadata": {},
     "output_type": "execute_result"
    },
    {
     "data": {
      "text/plain": [
       "array([[[1, 2, 3, 4, 5]]])"
      ]
     },
     "execution_count": 81,
     "metadata": {},
     "output_type": "execute_result"
    },
    {
     "data": {
      "text/plain": [
       "array([[[1, 2, 3, 4, 5]]])"
      ]
     },
     "execution_count": 81,
     "metadata": {},
     "output_type": "execute_result"
    }
   ],
   "source": [
    "myarr3\n",
    "# This is a rank 3 array. like this you can create any rank array."
   ]
  },
  {
   "cell_type": "markdown",
   "id": "f57b1996",
   "metadata": {},
   "source": [
    "# dtype\n",
    "## We use dtype parameter to create wanted array type obect"
   ]
  },
  {
   "cell_type": "code",
   "execution_count": 82,
   "id": "8714312b",
   "metadata": {},
   "outputs": [],
   "source": [
    "myarr4 = np.array([1,2,3,4,45,5],dtype=float)"
   ]
  },
  {
   "cell_type": "code",
   "execution_count": 83,
   "id": "461f3049",
   "metadata": {},
   "outputs": [
    {
     "data": {
      "text/plain": [
       "array([ 1.,  2.,  3.,  4., 45.,  5.])"
      ]
     },
     "execution_count": 83,
     "metadata": {},
     "output_type": "execute_result"
    },
    {
     "data": {
      "text/plain": [
       "array([ 1.,  2.,  3.,  4., 45.,  5.])"
      ]
     },
     "execution_count": 83,
     "metadata": {},
     "output_type": "execute_result"
    },
    {
     "data": {
      "text/plain": [
       "array([ 1.,  2.,  3.,  4., 45.,  5.])"
      ]
     },
     "execution_count": 83,
     "metadata": {},
     "output_type": "execute_result"
    },
    {
     "data": {
      "text/plain": [
       "array([ 1.,  2.,  3.,  4., 45.,  5.])"
      ]
     },
     "execution_count": 83,
     "metadata": {},
     "output_type": "execute_result"
    }
   ],
   "source": [
    "myarr4"
   ]
  },
  {
   "cell_type": "code",
   "execution_count": 84,
   "id": "2dffe02c",
   "metadata": {},
   "outputs": [],
   "source": [
    "# We can create complec object type array as well\n",
    "myarr5 = np.array([1,3,4,5,6,7,8],dtype=complex)"
   ]
  },
  {
   "cell_type": "code",
   "execution_count": 85,
   "id": "28eeff52",
   "metadata": {},
   "outputs": [
    {
     "data": {
      "text/plain": [
       "array([1.+0.j, 3.+0.j, 4.+0.j, 5.+0.j, 6.+0.j, 7.+0.j, 8.+0.j])"
      ]
     },
     "execution_count": 85,
     "metadata": {},
     "output_type": "execute_result"
    },
    {
     "data": {
      "text/plain": [
       "array([1.+0.j, 3.+0.j, 4.+0.j, 5.+0.j, 6.+0.j, 7.+0.j, 8.+0.j])"
      ]
     },
     "execution_count": 85,
     "metadata": {},
     "output_type": "execute_result"
    },
    {
     "data": {
      "text/plain": [
       "array([1.+0.j, 3.+0.j, 4.+0.j, 5.+0.j, 6.+0.j, 7.+0.j, 8.+0.j])"
      ]
     },
     "execution_count": 85,
     "metadata": {},
     "output_type": "execute_result"
    },
    {
     "data": {
      "text/plain": [
       "array([1.+0.j, 3.+0.j, 4.+0.j, 5.+0.j, 6.+0.j, 7.+0.j, 8.+0.j])"
      ]
     },
     "execution_count": 85,
     "metadata": {},
     "output_type": "execute_result"
    }
   ],
   "source": [
    "myarr5"
   ]
  },
  {
   "cell_type": "markdown",
   "id": "43efada7",
   "metadata": {},
   "source": [
    "# Structured data type \n",
    "## First we  create structured data type and then apply to ndarray obect"
   ]
  },
  {
   "cell_type": "code",
   "execution_count": 86,
   "id": "f626b071",
   "metadata": {},
   "outputs": [],
   "source": [
    "data = np.dtype([('Ages',np.int32)])"
   ]
  },
  {
   "cell_type": "code",
   "execution_count": 87,
   "id": "2f66b9ae",
   "metadata": {},
   "outputs": [],
   "source": [
    "friends = np.array([(11,),(22,),(33,)],dtype=data)"
   ]
  },
  {
   "cell_type": "code",
   "execution_count": 88,
   "id": "67b9bad1",
   "metadata": {},
   "outputs": [
    {
     "name": "stdout",
     "output_type": "stream",
     "text": [
      "[(11,) (22,) (33,)]\n",
      "[(11,) (22,) (33,)]\n",
      "[(11,) (22,) (33,)]\n",
      "[(11,) (22,) (33,)]\n"
     ]
    }
   ],
   "source": [
    "print(friends)"
   ]
  },
  {
   "cell_type": "markdown",
   "id": "86716225",
   "metadata": {},
   "source": [
    "## There is one more way to do the above thing"
   ]
  },
  {
   "cell_type": "code",
   "execution_count": 89,
   "id": "2abb1388",
   "metadata": {},
   "outputs": [],
   "source": [
    "friends = np.array([(11,data),(22,data),(33,data)])"
   ]
  },
  {
   "cell_type": "code",
   "execution_count": 90,
   "id": "a9f6c499",
   "metadata": {},
   "outputs": [
    {
     "data": {
      "text/plain": [
       "array([[11, dtype([('Ages', '<i4')])],\n",
       "       [22, dtype([('Ages', '<i4')])],\n",
       "       [33, dtype([('Ages', '<i4')])]], dtype=object)"
      ]
     },
     "execution_count": 90,
     "metadata": {},
     "output_type": "execute_result"
    },
    {
     "data": {
      "text/plain": [
       "array([[11, dtype([('Ages', '<i4')])],\n",
       "       [22, dtype([('Ages', '<i4')])],\n",
       "       [33, dtype([('Ages', '<i4')])]], dtype=object)"
      ]
     },
     "execution_count": 90,
     "metadata": {},
     "output_type": "execute_result"
    },
    {
     "data": {
      "text/plain": [
       "array([[11, dtype([('Ages', '<i4')])],\n",
       "       [22, dtype([('Ages', '<i4')])],\n",
       "       [33, dtype([('Ages', '<i4')])]], dtype=object)"
      ]
     },
     "execution_count": 90,
     "metadata": {},
     "output_type": "execute_result"
    },
    {
     "data": {
      "text/plain": [
       "array([[11, dtype([('Ages', '<i4')])],\n",
       "       [22, dtype([('Ages', '<i4')])],\n",
       "       [33, dtype([('Ages', '<i4')])]], dtype=object)"
      ]
     },
     "execution_count": 90,
     "metadata": {},
     "output_type": "execute_result"
    }
   ],
   "source": [
    "friends"
   ]
  },
  {
   "attachments": {},
   "cell_type": "markdown",
   "id": "266ab551",
   "metadata": {},
   "source": [
    "### We define dtype along with the object like we did in above example.  One more example on this structured data type\n",
    " First we define a structured data type called emp with a string field 'name', an integer field 'age' and a float field 'salary'. This dtype is applied to ndarray object."
   ]
  },
  {
   "cell_type": "code",
   "execution_count": 100,
   "id": "ebe5a11e",
   "metadata": {},
   "outputs": [],
   "source": [
    "# we define the structure data type std. Or next step would be its appliction on ndarray object\n",
    "\n",
    "std = np.dtype([('name','S20'),('age','int8'),('salary','f8')])"
   ]
  },
  {
   "cell_type": "code",
   "execution_count": 102,
   "id": "8e04a113",
   "metadata": {},
   "outputs": [
    {
     "name": "stdout",
     "output_type": "stream",
     "text": [
      "[('name', 'S20'), ('age', 'i1'), ('salary', '<f8')]\n",
      "[('name', 'S20'), ('age', 'i1'), ('salary', '<f8')]\n",
      "[('name', 'S20'), ('age', 'i1'), ('salary', '<f8')]\n",
      "[('name', 'S20'), ('age', 'i1'), ('salary', '<f8')]\n"
     ]
    }
   ],
   "source": [
    "print(std)"
   ]
  },
  {
   "cell_type": "code",
   "execution_count": 103,
   "id": "08056c13",
   "metadata": {},
   "outputs": [],
   "source": [
    "score = np.array([('Jyoti',22,40000),('Sachin',24,30000)],dtype=std)"
   ]
  },
  {
   "cell_type": "code",
   "execution_count": 104,
   "id": "3a60cc0d",
   "metadata": {},
   "outputs": [
    {
     "data": {
      "text/plain": [
       "array([(b'Jyoti', 22, 40000.), (b'Sachin', 24, 30000.)],\n",
       "      dtype=[('name', 'S20'), ('age', 'i1'), ('salary', '<f8')])"
      ]
     },
     "execution_count": 104,
     "metadata": {},
     "output_type": "execute_result"
    },
    {
     "data": {
      "text/plain": [
       "array([(b'Jyoti', 22, 40000.), (b'Sachin', 24, 30000.)],\n",
       "      dtype=[('name', 'S20'), ('age', 'i1'), ('salary', '<f8')])"
      ]
     },
     "execution_count": 104,
     "metadata": {},
     "output_type": "execute_result"
    },
    {
     "data": {
      "text/plain": [
       "array([(b'Jyoti', 22, 40000.), (b'Sachin', 24, 30000.)],\n",
       "      dtype=[('name', 'S20'), ('age', 'i1'), ('salary', '<f8')])"
      ]
     },
     "execution_count": 104,
     "metadata": {},
     "output_type": "execute_result"
    },
    {
     "data": {
      "text/plain": [
       "array([(b'Jyoti', 22, 40000.), (b'Sachin', 24, 30000.)],\n",
       "      dtype=[('name', 'S20'), ('age', 'i1'), ('salary', '<f8')])"
      ]
     },
     "execution_count": 104,
     "metadata": {},
     "output_type": "execute_result"
    }
   ],
   "source": [
    "score"
   ]
  },
  {
   "cell_type": "markdown",
   "id": "c162747d",
   "metadata": {},
   "source": [
    "# ndarray.shape                               gives you the diension of array"
   ]
  },
  {
   "cell_type": "code",
   "execution_count": 112,
   "id": "f3534062",
   "metadata": {},
   "outputs": [],
   "source": [
    "a = np.array([[2,3,4,4,5,3],[8,7,6,3,5,5]])"
   ]
  },
  {
   "cell_type": "code",
   "execution_count": 117,
   "id": "48686a8e",
   "metadata": {},
   "outputs": [
    {
     "data": {
      "text/plain": [
       "array([[2, 3],\n",
       "       [4, 4],\n",
       "       [5, 3],\n",
       "       [8, 7],\n",
       "       [6, 3],\n",
       "       [5, 5]])"
      ]
     },
     "execution_count": 117,
     "metadata": {},
     "output_type": "execute_result"
    },
    {
     "data": {
      "text/plain": [
       "array([[2, 3],\n",
       "       [4, 4],\n",
       "       [5, 3],\n",
       "       [8, 7],\n",
       "       [6, 3],\n",
       "       [5, 5]])"
      ]
     },
     "execution_count": 117,
     "metadata": {},
     "output_type": "execute_result"
    },
    {
     "data": {
      "text/plain": [
       "array([[2, 3],\n",
       "       [4, 4],\n",
       "       [5, 3],\n",
       "       [8, 7],\n",
       "       [6, 3],\n",
       "       [5, 5]])"
      ]
     },
     "execution_count": 117,
     "metadata": {},
     "output_type": "execute_result"
    },
    {
     "data": {
      "text/plain": [
       "array([[2, 3],\n",
       "       [4, 4],\n",
       "       [5, 3],\n",
       "       [8, 7],\n",
       "       [6, 3],\n",
       "       [5, 5]])"
      ]
     },
     "execution_count": 117,
     "metadata": {},
     "output_type": "execute_result"
    }
   ],
   "source": [
    "a"
   ]
  },
  {
   "cell_type": "code",
   "execution_count": 118,
   "id": "21713839",
   "metadata": {},
   "outputs": [
    {
     "data": {
      "text/plain": [
       "(6, 2)"
      ]
     },
     "execution_count": 118,
     "metadata": {},
     "output_type": "execute_result"
    },
    {
     "data": {
      "text/plain": [
       "(6, 2)"
      ]
     },
     "execution_count": 118,
     "metadata": {},
     "output_type": "execute_result"
    },
    {
     "data": {
      "text/plain": [
       "(6, 2)"
      ]
     },
     "execution_count": 118,
     "metadata": {},
     "output_type": "execute_result"
    },
    {
     "data": {
      "text/plain": [
       "(6, 2)"
      ]
     },
     "execution_count": 118,
     "metadata": {},
     "output_type": "execute_result"
    }
   ],
   "source": [
    "a.shape"
   ]
  },
  {
   "cell_type": "markdown",
   "id": "4b2925c4",
   "metadata": {},
   "source": [
    "## You can resize the array as well with the help of  **.shape**"
   ]
  },
  {
   "cell_type": "code",
   "execution_count": 119,
   "id": "6bfbc97e",
   "metadata": {},
   "outputs": [],
   "source": [
    "a.shape=(2,6)"
   ]
  },
  {
   "cell_type": "code",
   "execution_count": 120,
   "id": "289ef1cd",
   "metadata": {},
   "outputs": [
    {
     "data": {
      "text/plain": [
       "array([[2, 3, 4, 4, 5, 3],\n",
       "       [8, 7, 6, 3, 5, 5]])"
      ]
     },
     "execution_count": 120,
     "metadata": {},
     "output_type": "execute_result"
    },
    {
     "data": {
      "text/plain": [
       "array([[2, 3, 4, 4, 5, 3],\n",
       "       [8, 7, 6, 3, 5, 5]])"
      ]
     },
     "execution_count": 120,
     "metadata": {},
     "output_type": "execute_result"
    },
    {
     "data": {
      "text/plain": [
       "array([[2, 3, 4, 4, 5, 3],\n",
       "       [8, 7, 6, 3, 5, 5]])"
      ]
     },
     "execution_count": 120,
     "metadata": {},
     "output_type": "execute_result"
    },
    {
     "data": {
      "text/plain": [
       "array([[2, 3, 4, 4, 5, 3],\n",
       "       [8, 7, 6, 3, 5, 5]])"
      ]
     },
     "execution_count": 120,
     "metadata": {},
     "output_type": "execute_result"
    }
   ],
   "source": [
    "a"
   ]
  },
  {
   "cell_type": "markdown",
   "id": "b7b4f878",
   "metadata": {},
   "source": [
    "### You can use reshape function also to change the shape of the array"
   ]
  },
  {
   "cell_type": "code",
   "execution_count": 121,
   "id": "1a7250ce",
   "metadata": {},
   "outputs": [],
   "source": [
    "b = a.reshape(6,2)"
   ]
  },
  {
   "cell_type": "code",
   "execution_count": 122,
   "id": "af1cb24b",
   "metadata": {},
   "outputs": [
    {
     "data": {
      "text/plain": [
       "array([[2, 3],\n",
       "       [4, 4],\n",
       "       [5, 3],\n",
       "       [8, 7],\n",
       "       [6, 3],\n",
       "       [5, 5]])"
      ]
     },
     "execution_count": 122,
     "metadata": {},
     "output_type": "execute_result"
    },
    {
     "data": {
      "text/plain": [
       "array([[2, 3],\n",
       "       [4, 4],\n",
       "       [5, 3],\n",
       "       [8, 7],\n",
       "       [6, 3],\n",
       "       [5, 5]])"
      ]
     },
     "execution_count": 122,
     "metadata": {},
     "output_type": "execute_result"
    },
    {
     "data": {
      "text/plain": [
       "array([[2, 3],\n",
       "       [4, 4],\n",
       "       [5, 3],\n",
       "       [8, 7],\n",
       "       [6, 3],\n",
       "       [5, 5]])"
      ]
     },
     "execution_count": 122,
     "metadata": {},
     "output_type": "execute_result"
    },
    {
     "data": {
      "text/plain": [
       "array([[2, 3],\n",
       "       [4, 4],\n",
       "       [5, 3],\n",
       "       [8, 7],\n",
       "       [6, 3],\n",
       "       [5, 5]])"
      ]
     },
     "execution_count": 122,
     "metadata": {},
     "output_type": "execute_result"
    }
   ],
   "source": [
    "b"
   ]
  },
  {
   "cell_type": "code",
   "execution_count": null,
   "id": "16c56aad",
   "metadata": {},
   "outputs": [],
   "source": []
  }
 ],
 "metadata": {
  "kernelspec": {
   "display_name": "Python 3",
   "language": "python",
   "name": "python3"
  }
 },
 "nbformat": 4,
 "nbformat_minor": 5
}
